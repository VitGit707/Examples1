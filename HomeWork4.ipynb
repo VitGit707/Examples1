{
  "nbformat": 4,
  "nbformat_minor": 0,
  "metadata": {
    "colab": {
      "provenance": [],
      "authorship_tag": "ABX9TyPaBddK2UQ4Qwkhkue5xpnk",
      "include_colab_link": true
    },
    "kernelspec": {
      "name": "python3",
      "display_name": "Python 3"
    },
    "language_info": {
      "name": "python"
    }
  },
  "cells": [
    {
      "cell_type": "markdown",
      "metadata": {
        "id": "view-in-github",
        "colab_type": "text"
      },
      "source": [
        "<a href=\"https://colab.research.google.com/github/VitGit707/Examples1/blob/main/HomeWork4.ipynb\" target=\"_parent\"><img src=\"https://colab.research.google.com/assets/colab-badge.svg\" alt=\"Open In Colab\"/></a>"
      ]
    },
    {
      "cell_type": "markdown",
      "source": [
        "**HomeWork Semiinar_4**\n",
        "**Урок 4. Визуальный анализ данных**\n",
        "***ССЫЛКОЙ НА GITHUB или COLAB. НЕ АРХИВ ***\n",
        "\n",
        "Условие 1: Задача 1\n",
        "\n",
        "Постройте график\n",
        "\n",
        "Назовите график\n",
        "\n",
        "Сделайте именование оси x и оси y\n",
        "\n",
        "Сделайте выводы\n",
        "\n",
        "1.1. Скачать следующие данные: kc-house-data и laptop_price\n",
        "\n",
        "1.2. Изучите стоимости недвижимости\n",
        "\n",
        "1.3. Изучите распределение квадратуры жилой\n",
        "\n",
        "1.4. Изучите распределение года постройки\n",
        "\n",
        "\n",
        "Условие 2: 2 задача\n",
        "\n",
        "2.1. Изучите распределение домов от наличия вида на набережную\n",
        "Постройте график\n",
        "Сделайте выводы\n",
        "\n",
        "2.2. Изучите распределение этажей домов\n",
        "\n",
        "2.3. Изучите распределение состояния домов\n",
        "\n",
        "Условие 3: 3 задача\n",
        "\n",
        "Исследуйте, какие характеристики недвижимости влияют на стоимость недвижимости, с применением не менее 5 диаграмм из урока.\n",
        "\n",
        "**Анализ сделайте в формате storytelling: дополнить каждый график письменными выводами и наблюдениями.**"
      ],
      "metadata": {
        "id": "4TfwziEkD52M"
      }
    },
    {
      "cell_type": "markdown",
      "source": [
        "Подгрузим необходимые библиотеки: numpy, pandas"
      ],
      "metadata": {
        "id": "r3Cd_exLF1IV"
      }
    },
    {
      "cell_type": "code",
      "execution_count": 2,
      "metadata": {
        "id": "WTzi_HuCD2aw"
      },
      "outputs": [],
      "source": [
        "import numpy as np\n",
        "import pandas as pd"
      ]
    },
    {
      "cell_type": "markdown",
      "source": [
        "Подгрузим инструменты для визуализации: matplotlib.pyplot, seaborn"
      ],
      "metadata": {
        "id": "Y2E2K_liGJT8"
      }
    },
    {
      "cell_type": "code",
      "source": [
        "import matplotlib.pyplot as plt\n",
        "import seaborn as sns"
      ],
      "metadata": {
        "id": "QknlI1sLGgSc"
      },
      "execution_count": 3,
      "outputs": []
    },
    {
      "cell_type": "markdown",
      "source": [
        " **1.1 Считываем датасет kc-house-data**\n"
      ],
      "metadata": {
        "id": "W459c-jpGr9_"
      }
    },
    {
      "cell_type": "code",
      "source": [
        "df = pd.read_csv('/content/sample_data/kc-house-data (1).csv', sep=',')\n",
        "df.sample(10)"
      ],
      "metadata": {
        "colab": {
          "base_uri": "https://localhost:8080/",
          "height": 412
        },
        "id": "CeCTiuajIlpM",
        "outputId": "b3e4bae6-1f16-4887-aa8f-96933bdb5208"
      },
      "execution_count": 21,
      "outputs": [
        {
          "output_type": "execute_result",
          "data": {
            "text/plain": [
              "               id             date      price  bedrooms  bathrooms  \\\n",
              "7045   8965400010  20140606T000000   715000.0         3       2.50   \n",
              "12684  1828000230  20140714T000000   498000.0         3       2.00   \n",
              "699    6664000030  20141009T000000   980000.0         4       2.25   \n",
              "8654   8118600025  20150331T000000   552500.0         4       1.00   \n",
              "10321   325049234  20140909T000000   925000.0         4       2.50   \n",
              "2300   5152100160  20150219T000000   357000.0         3       1.75   \n",
              "15883  2549000020  20150324T000000   400000.0         3       2.50   \n",
              "5983    259600050  20150223T000000   458500.0         3       1.75   \n",
              "9775   5318100200  20140527T000000  1100000.0         3       2.75   \n",
              "21287   123059127  20140502T000000   625000.0         4       3.25   \n",
              "\n",
              "       sqft_living  sqft_lot  floors  waterfront  view  ...  grade  \\\n",
              "7045          2550     13458     2.0           0     0  ...      9   \n",
              "12684         1620      8400     1.0           0     0  ...      7   \n",
              "699           2240     11034     2.0           0     0  ...      8   \n",
              "8654          1560      7980     1.0           0     0  ...      7   \n",
              "10321         3110     11422     2.0           0     0  ...      9   \n",
              "2300          2400     14012     1.0           0     0  ...      9   \n",
              "15883         1950     18533     2.0           0     0  ...      8   \n",
              "5983          1250      9605     1.0           0     0  ...      7   \n",
              "9775          2640      4050     1.5           0     0  ...      8   \n",
              "21287         2730     54014     1.0           0     0  ...      9   \n",
              "\n",
              "       sqft_above  sqft_basement  yr_built  yr_renovated  zipcode      lat  \\\n",
              "7045         2550              0      1990             0    98006  47.5586   \n",
              "12684        1180            440      1968             0    98052  47.6574   \n",
              "699          2240              0      1976             0    98004  47.5894   \n",
              "8654         1170            390      1939             0    98146  47.5093   \n",
              "10321        3110              0      1989             0    98115  47.6833   \n",
              "2300         2400              0      1971             0    98003  47.3371   \n",
              "15883        1950              0      1988             0    98024  47.5647   \n",
              "5983         1250              0      1964             0    98008  47.6325   \n",
              "9775         1750            890      1926             0    98112  47.6332   \n",
              "21287        1560           1170      2007             0    98059  47.5133   \n",
              "\n",
              "          long  sqft_living15  sqft_lot15  \n",
              "7045  -122.121           3180       13458  \n",
              "12684 -122.128           2120        8424  \n",
              "699   -122.195           2300       11550  \n",
              "8654  -122.387           1570        7980  \n",
              "10321 -122.271           2850        7254  \n",
              "2300  -122.325           2800       13988  \n",
              "15883 -121.903           1810       18401  \n",
              "5983  -122.121           1570        9605  \n",
              "9775  -122.281           1920        3600  \n",
              "21287 -122.110           2730      111274  \n",
              "\n",
              "[10 rows x 21 columns]"
            ],
            "text/html": [
              "\n",
              "  <div id=\"df-bd022434-867f-48dd-b747-7c951422bc2c\" class=\"colab-df-container\">\n",
              "    <div>\n",
              "<style scoped>\n",
              "    .dataframe tbody tr th:only-of-type {\n",
              "        vertical-align: middle;\n",
              "    }\n",
              "\n",
              "    .dataframe tbody tr th {\n",
              "        vertical-align: top;\n",
              "    }\n",
              "\n",
              "    .dataframe thead th {\n",
              "        text-align: right;\n",
              "    }\n",
              "</style>\n",
              "<table border=\"1\" class=\"dataframe\">\n",
              "  <thead>\n",
              "    <tr style=\"text-align: right;\">\n",
              "      <th></th>\n",
              "      <th>id</th>\n",
              "      <th>date</th>\n",
              "      <th>price</th>\n",
              "      <th>bedrooms</th>\n",
              "      <th>bathrooms</th>\n",
              "      <th>sqft_living</th>\n",
              "      <th>sqft_lot</th>\n",
              "      <th>floors</th>\n",
              "      <th>waterfront</th>\n",
              "      <th>view</th>\n",
              "      <th>...</th>\n",
              "      <th>grade</th>\n",
              "      <th>sqft_above</th>\n",
              "      <th>sqft_basement</th>\n",
              "      <th>yr_built</th>\n",
              "      <th>yr_renovated</th>\n",
              "      <th>zipcode</th>\n",
              "      <th>lat</th>\n",
              "      <th>long</th>\n",
              "      <th>sqft_living15</th>\n",
              "      <th>sqft_lot15</th>\n",
              "    </tr>\n",
              "  </thead>\n",
              "  <tbody>\n",
              "    <tr>\n",
              "      <th>7045</th>\n",
              "      <td>8965400010</td>\n",
              "      <td>20140606T000000</td>\n",
              "      <td>715000.0</td>\n",
              "      <td>3</td>\n",
              "      <td>2.50</td>\n",
              "      <td>2550</td>\n",
              "      <td>13458</td>\n",
              "      <td>2.0</td>\n",
              "      <td>0</td>\n",
              "      <td>0</td>\n",
              "      <td>...</td>\n",
              "      <td>9</td>\n",
              "      <td>2550</td>\n",
              "      <td>0</td>\n",
              "      <td>1990</td>\n",
              "      <td>0</td>\n",
              "      <td>98006</td>\n",
              "      <td>47.5586</td>\n",
              "      <td>-122.121</td>\n",
              "      <td>3180</td>\n",
              "      <td>13458</td>\n",
              "    </tr>\n",
              "    <tr>\n",
              "      <th>12684</th>\n",
              "      <td>1828000230</td>\n",
              "      <td>20140714T000000</td>\n",
              "      <td>498000.0</td>\n",
              "      <td>3</td>\n",
              "      <td>2.00</td>\n",
              "      <td>1620</td>\n",
              "      <td>8400</td>\n",
              "      <td>1.0</td>\n",
              "      <td>0</td>\n",
              "      <td>0</td>\n",
              "      <td>...</td>\n",
              "      <td>7</td>\n",
              "      <td>1180</td>\n",
              "      <td>440</td>\n",
              "      <td>1968</td>\n",
              "      <td>0</td>\n",
              "      <td>98052</td>\n",
              "      <td>47.6574</td>\n",
              "      <td>-122.128</td>\n",
              "      <td>2120</td>\n",
              "      <td>8424</td>\n",
              "    </tr>\n",
              "    <tr>\n",
              "      <th>699</th>\n",
              "      <td>6664000030</td>\n",
              "      <td>20141009T000000</td>\n",
              "      <td>980000.0</td>\n",
              "      <td>4</td>\n",
              "      <td>2.25</td>\n",
              "      <td>2240</td>\n",
              "      <td>11034</td>\n",
              "      <td>2.0</td>\n",
              "      <td>0</td>\n",
              "      <td>0</td>\n",
              "      <td>...</td>\n",
              "      <td>8</td>\n",
              "      <td>2240</td>\n",
              "      <td>0</td>\n",
              "      <td>1976</td>\n",
              "      <td>0</td>\n",
              "      <td>98004</td>\n",
              "      <td>47.5894</td>\n",
              "      <td>-122.195</td>\n",
              "      <td>2300</td>\n",
              "      <td>11550</td>\n",
              "    </tr>\n",
              "    <tr>\n",
              "      <th>8654</th>\n",
              "      <td>8118600025</td>\n",
              "      <td>20150331T000000</td>\n",
              "      <td>552500.0</td>\n",
              "      <td>4</td>\n",
              "      <td>1.00</td>\n",
              "      <td>1560</td>\n",
              "      <td>7980</td>\n",
              "      <td>1.0</td>\n",
              "      <td>0</td>\n",
              "      <td>0</td>\n",
              "      <td>...</td>\n",
              "      <td>7</td>\n",
              "      <td>1170</td>\n",
              "      <td>390</td>\n",
              "      <td>1939</td>\n",
              "      <td>0</td>\n",
              "      <td>98146</td>\n",
              "      <td>47.5093</td>\n",
              "      <td>-122.387</td>\n",
              "      <td>1570</td>\n",
              "      <td>7980</td>\n",
              "    </tr>\n",
              "    <tr>\n",
              "      <th>10321</th>\n",
              "      <td>325049234</td>\n",
              "      <td>20140909T000000</td>\n",
              "      <td>925000.0</td>\n",
              "      <td>4</td>\n",
              "      <td>2.50</td>\n",
              "      <td>3110</td>\n",
              "      <td>11422</td>\n",
              "      <td>2.0</td>\n",
              "      <td>0</td>\n",
              "      <td>0</td>\n",
              "      <td>...</td>\n",
              "      <td>9</td>\n",
              "      <td>3110</td>\n",
              "      <td>0</td>\n",
              "      <td>1989</td>\n",
              "      <td>0</td>\n",
              "      <td>98115</td>\n",
              "      <td>47.6833</td>\n",
              "      <td>-122.271</td>\n",
              "      <td>2850</td>\n",
              "      <td>7254</td>\n",
              "    </tr>\n",
              "    <tr>\n",
              "      <th>2300</th>\n",
              "      <td>5152100160</td>\n",
              "      <td>20150219T000000</td>\n",
              "      <td>357000.0</td>\n",
              "      <td>3</td>\n",
              "      <td>1.75</td>\n",
              "      <td>2400</td>\n",
              "      <td>14012</td>\n",
              "      <td>1.0</td>\n",
              "      <td>0</td>\n",
              "      <td>0</td>\n",
              "      <td>...</td>\n",
              "      <td>9</td>\n",
              "      <td>2400</td>\n",
              "      <td>0</td>\n",
              "      <td>1971</td>\n",
              "      <td>0</td>\n",
              "      <td>98003</td>\n",
              "      <td>47.3371</td>\n",
              "      <td>-122.325</td>\n",
              "      <td>2800</td>\n",
              "      <td>13988</td>\n",
              "    </tr>\n",
              "    <tr>\n",
              "      <th>15883</th>\n",
              "      <td>2549000020</td>\n",
              "      <td>20150324T000000</td>\n",
              "      <td>400000.0</td>\n",
              "      <td>3</td>\n",
              "      <td>2.50</td>\n",
              "      <td>1950</td>\n",
              "      <td>18533</td>\n",
              "      <td>2.0</td>\n",
              "      <td>0</td>\n",
              "      <td>0</td>\n",
              "      <td>...</td>\n",
              "      <td>8</td>\n",
              "      <td>1950</td>\n",
              "      <td>0</td>\n",
              "      <td>1988</td>\n",
              "      <td>0</td>\n",
              "      <td>98024</td>\n",
              "      <td>47.5647</td>\n",
              "      <td>-121.903</td>\n",
              "      <td>1810</td>\n",
              "      <td>18401</td>\n",
              "    </tr>\n",
              "    <tr>\n",
              "      <th>5983</th>\n",
              "      <td>259600050</td>\n",
              "      <td>20150223T000000</td>\n",
              "      <td>458500.0</td>\n",
              "      <td>3</td>\n",
              "      <td>1.75</td>\n",
              "      <td>1250</td>\n",
              "      <td>9605</td>\n",
              "      <td>1.0</td>\n",
              "      <td>0</td>\n",
              "      <td>0</td>\n",
              "      <td>...</td>\n",
              "      <td>7</td>\n",
              "      <td>1250</td>\n",
              "      <td>0</td>\n",
              "      <td>1964</td>\n",
              "      <td>0</td>\n",
              "      <td>98008</td>\n",
              "      <td>47.6325</td>\n",
              "      <td>-122.121</td>\n",
              "      <td>1570</td>\n",
              "      <td>9605</td>\n",
              "    </tr>\n",
              "    <tr>\n",
              "      <th>9775</th>\n",
              "      <td>5318100200</td>\n",
              "      <td>20140527T000000</td>\n",
              "      <td>1100000.0</td>\n",
              "      <td>3</td>\n",
              "      <td>2.75</td>\n",
              "      <td>2640</td>\n",
              "      <td>4050</td>\n",
              "      <td>1.5</td>\n",
              "      <td>0</td>\n",
              "      <td>0</td>\n",
              "      <td>...</td>\n",
              "      <td>8</td>\n",
              "      <td>1750</td>\n",
              "      <td>890</td>\n",
              "      <td>1926</td>\n",
              "      <td>0</td>\n",
              "      <td>98112</td>\n",
              "      <td>47.6332</td>\n",
              "      <td>-122.281</td>\n",
              "      <td>1920</td>\n",
              "      <td>3600</td>\n",
              "    </tr>\n",
              "    <tr>\n",
              "      <th>21287</th>\n",
              "      <td>123059127</td>\n",
              "      <td>20140502T000000</td>\n",
              "      <td>625000.0</td>\n",
              "      <td>4</td>\n",
              "      <td>3.25</td>\n",
              "      <td>2730</td>\n",
              "      <td>54014</td>\n",
              "      <td>1.0</td>\n",
              "      <td>0</td>\n",
              "      <td>0</td>\n",
              "      <td>...</td>\n",
              "      <td>9</td>\n",
              "      <td>1560</td>\n",
              "      <td>1170</td>\n",
              "      <td>2007</td>\n",
              "      <td>0</td>\n",
              "      <td>98059</td>\n",
              "      <td>47.5133</td>\n",
              "      <td>-122.110</td>\n",
              "      <td>2730</td>\n",
              "      <td>111274</td>\n",
              "    </tr>\n",
              "  </tbody>\n",
              "</table>\n",
              "<p>10 rows × 21 columns</p>\n",
              "</div>\n",
              "    <div class=\"colab-df-buttons\">\n",
              "\n",
              "  <div class=\"colab-df-container\">\n",
              "    <button class=\"colab-df-convert\" onclick=\"convertToInteractive('df-bd022434-867f-48dd-b747-7c951422bc2c')\"\n",
              "            title=\"Convert this dataframe to an interactive table.\"\n",
              "            style=\"display:none;\">\n",
              "\n",
              "  <svg xmlns=\"http://www.w3.org/2000/svg\" height=\"24px\" viewBox=\"0 -960 960 960\">\n",
              "    <path d=\"M120-120v-720h720v720H120Zm60-500h600v-160H180v160Zm220 220h160v-160H400v160Zm0 220h160v-160H400v160ZM180-400h160v-160H180v160Zm440 0h160v-160H620v160ZM180-180h160v-160H180v160Zm440 0h160v-160H620v160Z\"/>\n",
              "  </svg>\n",
              "    </button>\n",
              "\n",
              "  <style>\n",
              "    .colab-df-container {\n",
              "      display:flex;\n",
              "      gap: 12px;\n",
              "    }\n",
              "\n",
              "    .colab-df-convert {\n",
              "      background-color: #E8F0FE;\n",
              "      border: none;\n",
              "      border-radius: 50%;\n",
              "      cursor: pointer;\n",
              "      display: none;\n",
              "      fill: #1967D2;\n",
              "      height: 32px;\n",
              "      padding: 0 0 0 0;\n",
              "      width: 32px;\n",
              "    }\n",
              "\n",
              "    .colab-df-convert:hover {\n",
              "      background-color: #E2EBFA;\n",
              "      box-shadow: 0px 1px 2px rgba(60, 64, 67, 0.3), 0px 1px 3px 1px rgba(60, 64, 67, 0.15);\n",
              "      fill: #174EA6;\n",
              "    }\n",
              "\n",
              "    .colab-df-buttons div {\n",
              "      margin-bottom: 4px;\n",
              "    }\n",
              "\n",
              "    [theme=dark] .colab-df-convert {\n",
              "      background-color: #3B4455;\n",
              "      fill: #D2E3FC;\n",
              "    }\n",
              "\n",
              "    [theme=dark] .colab-df-convert:hover {\n",
              "      background-color: #434B5C;\n",
              "      box-shadow: 0px 1px 3px 1px rgba(0, 0, 0, 0.15);\n",
              "      filter: drop-shadow(0px 1px 2px rgba(0, 0, 0, 0.3));\n",
              "      fill: #FFFFFF;\n",
              "    }\n",
              "  </style>\n",
              "\n",
              "    <script>\n",
              "      const buttonEl =\n",
              "        document.querySelector('#df-bd022434-867f-48dd-b747-7c951422bc2c button.colab-df-convert');\n",
              "      buttonEl.style.display =\n",
              "        google.colab.kernel.accessAllowed ? 'block' : 'none';\n",
              "\n",
              "      async function convertToInteractive(key) {\n",
              "        const element = document.querySelector('#df-bd022434-867f-48dd-b747-7c951422bc2c');\n",
              "        const dataTable =\n",
              "          await google.colab.kernel.invokeFunction('convertToInteractive',\n",
              "                                                    [key], {});\n",
              "        if (!dataTable) return;\n",
              "\n",
              "        const docLinkHtml = 'Like what you see? Visit the ' +\n",
              "          '<a target=\"_blank\" href=https://colab.research.google.com/notebooks/data_table.ipynb>data table notebook</a>'\n",
              "          + ' to learn more about interactive tables.';\n",
              "        element.innerHTML = '';\n",
              "        dataTable['output_type'] = 'display_data';\n",
              "        await google.colab.output.renderOutput(dataTable, element);\n",
              "        const docLink = document.createElement('div');\n",
              "        docLink.innerHTML = docLinkHtml;\n",
              "        element.appendChild(docLink);\n",
              "      }\n",
              "    </script>\n",
              "  </div>\n",
              "\n",
              "\n",
              "<div id=\"df-bac561f6-0763-4069-a2e1-110e946870c8\">\n",
              "  <button class=\"colab-df-quickchart\" onclick=\"quickchart('df-bac561f6-0763-4069-a2e1-110e946870c8')\"\n",
              "            title=\"Suggest charts\"\n",
              "            style=\"display:none;\">\n",
              "\n",
              "<svg xmlns=\"http://www.w3.org/2000/svg\" height=\"24px\"viewBox=\"0 0 24 24\"\n",
              "     width=\"24px\">\n",
              "    <g>\n",
              "        <path d=\"M19 3H5c-1.1 0-2 .9-2 2v14c0 1.1.9 2 2 2h14c1.1 0 2-.9 2-2V5c0-1.1-.9-2-2-2zM9 17H7v-7h2v7zm4 0h-2V7h2v10zm4 0h-2v-4h2v4z\"/>\n",
              "    </g>\n",
              "</svg>\n",
              "  </button>\n",
              "\n",
              "<style>\n",
              "  .colab-df-quickchart {\n",
              "      --bg-color: #E8F0FE;\n",
              "      --fill-color: #1967D2;\n",
              "      --hover-bg-color: #E2EBFA;\n",
              "      --hover-fill-color: #174EA6;\n",
              "      --disabled-fill-color: #AAA;\n",
              "      --disabled-bg-color: #DDD;\n",
              "  }\n",
              "\n",
              "  [theme=dark] .colab-df-quickchart {\n",
              "      --bg-color: #3B4455;\n",
              "      --fill-color: #D2E3FC;\n",
              "      --hover-bg-color: #434B5C;\n",
              "      --hover-fill-color: #FFFFFF;\n",
              "      --disabled-bg-color: #3B4455;\n",
              "      --disabled-fill-color: #666;\n",
              "  }\n",
              "\n",
              "  .colab-df-quickchart {\n",
              "    background-color: var(--bg-color);\n",
              "    border: none;\n",
              "    border-radius: 50%;\n",
              "    cursor: pointer;\n",
              "    display: none;\n",
              "    fill: var(--fill-color);\n",
              "    height: 32px;\n",
              "    padding: 0;\n",
              "    width: 32px;\n",
              "  }\n",
              "\n",
              "  .colab-df-quickchart:hover {\n",
              "    background-color: var(--hover-bg-color);\n",
              "    box-shadow: 0 1px 2px rgba(60, 64, 67, 0.3), 0 1px 3px 1px rgba(60, 64, 67, 0.15);\n",
              "    fill: var(--button-hover-fill-color);\n",
              "  }\n",
              "\n",
              "  .colab-df-quickchart-complete:disabled,\n",
              "  .colab-df-quickchart-complete:disabled:hover {\n",
              "    background-color: var(--disabled-bg-color);\n",
              "    fill: var(--disabled-fill-color);\n",
              "    box-shadow: none;\n",
              "  }\n",
              "\n",
              "  .colab-df-spinner {\n",
              "    border: 2px solid var(--fill-color);\n",
              "    border-color: transparent;\n",
              "    border-bottom-color: var(--fill-color);\n",
              "    animation:\n",
              "      spin 1s steps(1) infinite;\n",
              "  }\n",
              "\n",
              "  @keyframes spin {\n",
              "    0% {\n",
              "      border-color: transparent;\n",
              "      border-bottom-color: var(--fill-color);\n",
              "      border-left-color: var(--fill-color);\n",
              "    }\n",
              "    20% {\n",
              "      border-color: transparent;\n",
              "      border-left-color: var(--fill-color);\n",
              "      border-top-color: var(--fill-color);\n",
              "    }\n",
              "    30% {\n",
              "      border-color: transparent;\n",
              "      border-left-color: var(--fill-color);\n",
              "      border-top-color: var(--fill-color);\n",
              "      border-right-color: var(--fill-color);\n",
              "    }\n",
              "    40% {\n",
              "      border-color: transparent;\n",
              "      border-right-color: var(--fill-color);\n",
              "      border-top-color: var(--fill-color);\n",
              "    }\n",
              "    60% {\n",
              "      border-color: transparent;\n",
              "      border-right-color: var(--fill-color);\n",
              "    }\n",
              "    80% {\n",
              "      border-color: transparent;\n",
              "      border-right-color: var(--fill-color);\n",
              "      border-bottom-color: var(--fill-color);\n",
              "    }\n",
              "    90% {\n",
              "      border-color: transparent;\n",
              "      border-bottom-color: var(--fill-color);\n",
              "    }\n",
              "  }\n",
              "</style>\n",
              "\n",
              "  <script>\n",
              "    async function quickchart(key) {\n",
              "      const quickchartButtonEl =\n",
              "        document.querySelector('#' + key + ' button');\n",
              "      quickchartButtonEl.disabled = true;  // To prevent multiple clicks.\n",
              "      quickchartButtonEl.classList.add('colab-df-spinner');\n",
              "      try {\n",
              "        const charts = await google.colab.kernel.invokeFunction(\n",
              "            'suggestCharts', [key], {});\n",
              "      } catch (error) {\n",
              "        console.error('Error during call to suggestCharts:', error);\n",
              "      }\n",
              "      quickchartButtonEl.classList.remove('colab-df-spinner');\n",
              "      quickchartButtonEl.classList.add('colab-df-quickchart-complete');\n",
              "    }\n",
              "    (() => {\n",
              "      let quickchartButtonEl =\n",
              "        document.querySelector('#df-bac561f6-0763-4069-a2e1-110e946870c8 button');\n",
              "      quickchartButtonEl.style.display =\n",
              "        google.colab.kernel.accessAllowed ? 'block' : 'none';\n",
              "    })();\n",
              "  </script>\n",
              "</div>\n",
              "    </div>\n",
              "  </div>\n"
            ]
          },
          "metadata": {},
          "execution_count": 21
        }
      ]
    },
    {
      "cell_type": "markdown",
      "source": [
        "**1.2. Изучите стоимости недвижимости**\n",
        "\n",
        "Воспользуемся гистограммой для изучения стоимости недвижимости, вызовим ее через функцию **hist**"
      ],
      "metadata": {
        "id": "1Y5x88tbK4U9"
      }
    },
    {
      "cell_type": "code",
      "source": [
        "plt.hist(df['price'])\n",
        "plt.xlabel('Price')\n",
        "plt.ylabel('Count')\n",
        "plt.title('Cтоимость недвижимости');"
      ],
      "metadata": {
        "colab": {
          "base_uri": "https://localhost:8080/",
          "height": 472
        },
        "id": "9nDFtW5ULa7u",
        "outputId": "144a0b23-a486-42cf-9b02-3a4135e8ab70"
      },
      "execution_count": 23,
      "outputs": [
        {
          "output_type": "display_data",
          "data": {
            "text/plain": [
              "<Figure size 640x480 with 1 Axes>"
            ],
            "image/png": "[encoded data removed]"
          },
          "metadata": {}
        }
      ]
    },
    {
      "cell_type": "markdown",
      "source": [
        "**Выводы:**\n",
        "\n",
        "# Проанализировав данные нашего графика видим: Ценовой диапазон домов достаточно широкий, варьируется в диапазоне от 150000 и до 3900000\n",
        "\n",
        "**Чем дороже стоимость дома, тем их меньше в нашем дата сете.\n",
        "\n",
        "**Чем дешевле стоимость дома, тем их больше в нашем дата сете\n",
        "\n",
        "Стоимость основной части домов от **150000 до 800000**\n",
        "2300 домов варьируются в диапазоне от **800000 и до 1700000**\n",
        "200 домов в ценовом диапазоне от **1600000 и до 2300000**\n",
        "60 домов в диапазоне **2300000 и до 3100000**\n",
        "30 домов в ценовом диапазоне 3100000 до 3900000\n"
      ],
      "metadata": {
        "id": "Zz2gJDJLSya8"
      }
    },
    {
      "cell_type": "markdown",
      "source": [
        "**1.3. Изучите распределение квадратуры жилой**"
      ],
      "metadata": {
        "id": "ik5adYkoUiy0"
      }
    },
    {
      "cell_type": "code",
      "source": [
        "plt.hist(df['sqft_living'])\n",
        "plt.xlabel('meters')\n",
        "plt.ylabel('Count')\n",
        "plt.title('Квадратура жилая');"
      ],
      "metadata": {
        "colab": {
          "base_uri": "https://localhost:8080/",
          "height": 472
        },
        "id": "7xU52GXaUiMd",
        "outputId": "c11a2163-2622-4035-ce32-4c359cfa6218"
      },
      "execution_count": 25,
      "outputs": [
        {
          "output_type": "display_data",
          "data": {
            "text/plain": [
              "<Figure size 640x480 with 1 Axes>"
            ],
            "image/png": "[encoded data removed]"
          },
          "metadata": {}
        }
      ]
    },
    {
      "cell_type": "markdown",
      "source": [
        "Выводы: Площадь домов солидная (Теремки), достигает 8100 кв.м.\n",
        "\n",
        "**Основное количество домов (Больше 10000) в нашем дата сете площадью от 1800 до 2400 метро**в\n",
        "7800 домов от 200 и до 1800 кв метров\n",
        "2400 домов площадью от 2400 до 4100 кв метров\n",
        "700 домов от 4100 до 5700 кв метров\n",
        "130 домов от 5700 до 6400 кв метров\n",
        "30 домов от 6400 до 8100 кв метров"
      ],
      "metadata": {
        "id": "lZ6goq6QVyYm"
      }
    },
    {
      "cell_type": "markdown",
      "source": [
        "**1.4. Изучите распределение года постройки**"
      ],
      "metadata": {
        "id": "QYzm9-pSX3ok"
      }
    },
    {
      "cell_type": "code",
      "source": [
        "plt.hist(df['yr_built'])\n",
        "plt.xlabel('Years')\n",
        "plt.ylabel('Count')\n",
        "plt.title('Год постройки дома');"
      ],
      "metadata": {
        "colab": {
          "base_uri": "https://localhost:8080/",
          "height": 472
        },
        "id": "Us4rlkrhVv40",
        "outputId": "c9b2b094-2be1-43f5-e4b6-91e8fdf8fe92"
      },
      "execution_count": 26,
      "outputs": [
        {
          "output_type": "display_data",
          "data": {
            "text/plain": [
              "<Figure size 640x480 with 1 Axes>"
            ],
            "image/png": "[encoded data removed]"
          },
          "metadata": {}
        }
      ]
    },
    {
      "cell_type": "markdown",
      "source": [
        "**Выводы:Благосостояние народа улучшилось. Строительство домов увеличилось.Численность населения увеличилось.**\n",
        "\n",
        "**Диапазон постройки домов в нашем дата фрейме достаточно широк: с  1900 - 2017 г.г. (117 лет > Века)** **Серьезный период времени!!!**\n",
        "\n",
        "Основная часть домов, больше 3500 шт построены в 2004-2017 гг.\n",
        "На втором месте (2900) домов, как ни странно дома, построеные в период 1959-1969 г.г. (Уже не первой свежести)\n",
        "На третьем месте (2800) домов построены в период: 1992-2004год\n",
        "На 4-ом месте 1964-1979 построено 2700 домов\n",
        "Меньше всего построено (800 домов) с 1900 - 1911 гг"
      ],
      "metadata": {
        "id": "6_UBWCGIYYQF"
      }
    },
    {
      "cell_type": "markdown",
      "source": [
        "**Условие 2: 2 задача**\n",
        "\n",
        "**2.1. Изучите распределение домов от наличия вида на набережную Постройте график Сделайте выводы**\n",
        "\n",
        "**2.2. Изучите распределение этажей домов**\n",
        "\n",
        "**2.3. Изучите распределение состояния домов**"
      ],
      "metadata": {
        "id": "cZT_WKsRbzDM"
      }
    },
    {
      "cell_type": "markdown",
      "source": [
        "**2.1. Изучите распределение домов от наличия вида на набережную Постройте график Сделайте выводы**\n",
        "\n",
        "Создадим новый дата фрей, назовем его seafront, и посчитаем количество применив value_counts()\n",
        "Выведим его: seafront\n",
        "\n",
        "21450 домов без вида на набережную\n",
        "163 с видом на набережную"
      ],
      "metadata": {
        "id": "ALEruw7nb4eM"
      }
    },
    {
      "cell_type": "code",
      "source": [
        "seafront = df['waterfront'].value_counts()\n",
        "seafront"
      ],
      "metadata": {
        "colab": {
          "base_uri": "https://localhost:8080/"
        },
        "id": "GPu7BqUIcU4k",
        "outputId": "aafc9408-dec0-459e-85ff-f89a38b92bb1"
      },
      "execution_count": 28,
      "outputs": [
        {
          "output_type": "execute_result",
          "data": {
            "text/plain": [
              "0    21450\n",
              "1      163\n",
              "Name: waterfront, dtype: int64"
            ]
          },
          "metadata": {},
          "execution_count": 28
        }
      ]
    },
    {
      "cell_type": "markdown",
      "source": [
        "Создадим круговой график т.к. у нас мало величин\n",
        "Индекс 0 (без вида на набережную) - 21450 домов, 99,25% от общего числа домов  \n",
        "Индекс 1 (с видом на набережную) - 163 дома, 0.75% от общего числа домов\n"
      ],
      "metadata": {
        "id": "uR3ehP10e66c"
      }
    },
    {
      "cell_type": "code",
      "source": [
        "plt.pie(seafront.values,labels=seafront.index, autopct='%1.2f%%')\n",
        "plt.legend(seafront.index)"
      ],
      "metadata": {
        "colab": {
          "base_uri": "https://localhost:8080/",
          "height": 423
        },
        "id": "P6UQ7_D-e_sW",
        "outputId": "01acfca9-4110-410a-a65f-fce6c41400c4"
      },
      "execution_count": 31,
      "outputs": [
        {
          "output_type": "execute_result",
          "data": {
            "text/plain": [
              "<matplotlib.legend.Legend at 0x78e63aca48b0>"
            ]
          },
          "metadata": {},
          "execution_count": 31
        },
        {
          "output_type": "display_data",
          "data": {
            "text/plain": [
              "<Figure size 640x480 with 1 Axes>"
            ],
            "image/png": "[encoded data removed]"
          },
          "metadata": {}
        }
      ]
    },
    {
      "cell_type": "markdown",
      "source": [
        "**2.2. Изучите распределение этажей домов**  **floors**"
      ],
      "metadata": {
        "id": "TCiPMVEzh1Q_"
      }
    },
    {
      "cell_type": "code",
      "source": [
        "floors = df['floors'].value_counts()\n",
        "floors"
      ],
      "metadata": {
        "colab": {
          "base_uri": "https://localhost:8080/"
        },
        "id": "ph3R41mHhzeV",
        "outputId": "5b7a403b-10b5-45de-e5d7-24d78209619a"
      },
      "execution_count": 32,
      "outputs": [
        {
          "output_type": "execute_result",
          "data": {
            "text/plain": [
              "1.0    10680\n",
              "2.0     8241\n",
              "1.5     1910\n",
              "3.0      613\n",
              "2.5      161\n",
              "3.5        8\n",
              "Name: floors, dtype: int64"
            ]
          },
          "metadata": {},
          "execution_count": 32
        }
      ]
    },
    {
      "cell_type": "markdown",
      "source": [
        "Так, как значений этажей много (6 штук) Используем график bar\n",
        "\n",
        "**Выводы**:\n",
        "\n",
        "Из нашего графика видноколичество домов:\n",
        "\n",
        "Одноэтажной постройки у нас больше всего - 10680\n",
        "\n",
        "Двухэтажная постройка - 8241 дом\n",
        "\n",
        "Полутораэтажная постройка - 1900 домов (\n",
        "\n",
        "Трехэтажная постройка - 700 домов"
      ],
      "metadata": {
        "id": "Xgz4YjFljWk9"
      }
    },
    {
      "cell_type": "code",
      "source": [
        "plt.bar(floors.index, floors.values)\n",
        ""
      ],
      "metadata": {
        "colab": {
          "base_uri": "https://localhost:8080/",
          "height": 447
        },
        "id": "nMMs3iPliMnU",
        "outputId": "aef7fbdd-129c-42b2-861d-ee46c1641dc2"
      },
      "execution_count": 37,
      "outputs": [
        {
          "output_type": "execute_result",
          "data": {
            "text/plain": [
              "<BarContainer object of 6 artists>"
            ]
          },
          "metadata": {},
          "execution_count": 37
        },
        {
          "output_type": "display_data",
          "data": {
            "text/plain": [
              "<Figure size 640x480 with 1 Axes>"
            ],
            "image/png": "[encoded data removed]"
          },
          "metadata": {}
        }
      ]
    },
    {
      "cell_type": "markdown",
      "source": [
        "**2.3. Изучите распределение состояния домов** **yr_renovated**\n",
        "Исходя из данных нашего дата фрейма делаем вывод:\n",
        "Большая часть домов в хорошем состоянии, и не ремонтировалась. Качество строительства домов хорошее\n",
        "Дома 2014 года ремонитровались больше всего.\n",
        "Дома с 1944-1951 г.г. постройки ремонтировалось по одному.\n",
        "2014       91\n",
        "2013       37\n",
        "2003       36\n",
        "2005       35\n",
        "        ...  \n",
        "1951        1\n",
        "1959        1\n",
        "1948        1\n",
        "1954        1\n",
        "1944        1"
      ],
      "metadata": {
        "id": "Q59_N6bgmSJE"
      }
    },
    {
      "cell_type": "code",
      "source": [
        "yr_renovated = df['yr_renovated'].value_counts()\n",
        "renovated"
      ],
      "metadata": {
        "colab": {
          "base_uri": "https://localhost:8080/"
        },
        "id": "mFzpNW6Lndik",
        "outputId": "bbc35674-791c-465a-e18e-2aebc24eefc9"
      },
      "execution_count": 42,
      "outputs": [
        {
          "output_type": "execute_result",
          "data": {
            "text/plain": [
              "0       20699\n",
              "2014       91\n",
              "2013       37\n",
              "2003       36\n",
              "2005       35\n",
              "        ...  \n",
              "1951        1\n",
              "1959        1\n",
              "1948        1\n",
              "1954        1\n",
              "1944        1\n",
              "Name: yr_renovated, Length: 70, dtype: int64"
            ]
          },
          "metadata": {},
          "execution_count": 42
        }
      ]
    },
    {
      "cell_type": "markdown",
      "source": [
        "**Условие 3: 3 задача**\n",
        "\n",
        "Исследуйте, какие характеристики недвижимости влияют на стоимость недвижимости, с применением не менее 5 диаграмм из урока.\n",
        "\n",
        "Анализ сделайте в формате storytelling: дополнить каждый график письменными выводами и наблюдениями."
      ],
      "metadata": {
        "id": "aG2zuhlRqIWD"
      }
    },
    {
      "cell_type": "code",
      "source": [
        "import seaborn as sns\n",
        "\n",
        "sns.boxplot(x=df['Price_euros'], y=df['Cpu_Company'], showfliers=False)"
      ],
      "metadata": {
        "id": "7aMv7ulkrEdU"
      },
      "execution_count": null,
      "outputs": []
    }
  ]
}